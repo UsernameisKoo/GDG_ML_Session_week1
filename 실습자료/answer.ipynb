{
 "cells": [
  {
   "cell_type": "markdown",
   "id": "c4c1436a",
   "metadata": {},
   "source": [
    "# Vector의 계산"
   ]
  },
  {
   "cell_type": "markdown",
   "id": "91cda91f",
   "metadata": {},
   "source": [
    "## 문제 1\n",
    "### 다음 그림의 벡터합을 Pythonic Code로 구현하시오.\n",
    "![nn](vector.jpg)"
   ]
  },
  {
   "cell_type": "code",
   "execution_count": 1,
   "id": "8fa94238",
   "metadata": {},
   "outputs": [],
   "source": [
    "# vector 덧셈\n",
    "u = [1, 2, 3]\n",
    "v = [4, 5, 6]\n",
    "z = [7, 8, 9]\n",
    "\n",
    "result = [sum(t) for t in zip(u, v, z)]"
   ]
  },
  {
   "cell_type": "code",
   "execution_count": 2,
   "id": "ddb79881",
   "metadata": {},
   "outputs": [
    {
     "name": "stdout",
     "output_type": "stream",
     "text": [
      "[12, 15, 18]\n"
     ]
    }
   ],
   "source": [
    "print(result)"
   ]
  },
  {
   "cell_type": "markdown",
   "id": "b245bbd7",
   "metadata": {},
   "source": [
    "## 문제 2 - Scalar-Vector product : 벡터 상수배\n",
    "### 다음 그림의 벡터 상수배를 Pythonic Code로 구현하시오.\n",
    "![nn](vector1.jpg)"
   ]
  },
  {
   "cell_type": "code",
   "execution_count": 3,
   "id": "d617b13c",
   "metadata": {},
   "outputs": [],
   "source": [
    "# Scalar-Vector product : 벡터 상수배\n",
    "u = [1, 2, 3]\n",
    "v = [4, 5, 6]\n",
    "alpha = 4\n",
    "result = [alpha*sum(t) for t in zip(u, v)]"
   ]
  },
  {
   "cell_type": "code",
   "execution_count": 4,
   "id": "c7ee1452",
   "metadata": {},
   "outputs": [
    {
     "name": "stdout",
     "output_type": "stream",
     "text": [
      "[20, 28, 36]\n"
     ]
    }
   ],
   "source": [
    "print(result)"
   ]
  },
  {
   "cell_type": "markdown",
   "id": "62d87f65",
   "metadata": {},
   "source": [
    "# Matrix의 계산"
   ]
  },
  {
   "cell_type": "markdown",
   "id": "00d4ae1a",
   "metadata": {},
   "source": [
    "## 문제 3 - Matrix Product : 행렬곱\n",
    "### 다음 그림의 행렬곱 결과를 계산하시오. (코드 x)\n",
    "![nn](matrix3.jpg)"
   ]
  },
  {
   "cell_type": "code",
   "execution_count": 5,
   "id": "08b60848",
   "metadata": {},
   "outputs": [],
   "source": [
    "# 행렬곱\n",
    "\n",
    "# [[5 8]\n",
    "# [5 6]]"
   ]
  },
  {
   "cell_type": "markdown",
   "id": "1bce5673",
   "metadata": {},
   "source": [
    "## 문제 4 - Matrix 덧셈\n",
    "### 다음 그림의 행렬 덧셈을 Pythonic Code로 구현하시오.\n",
    "![nn](matrix.jpg)"
   ]
  },
  {
   "cell_type": "code",
   "execution_count": 6,
   "id": "463d9ef9",
   "metadata": {},
   "outputs": [],
   "source": [
    "# 행렬 덧셈\n",
    "matrix_a = [[3, 6], [4, 5]]\n",
    "matrix_b = [[5, 8], [6, 7]]\n",
    "result = [[sum(row) for row in zip(*t)] for t in zip(matrix_a, matrix_b)]"
   ]
  },
  {
   "cell_type": "code",
   "execution_count": 7,
   "id": "b8d22aa9",
   "metadata": {},
   "outputs": [
    {
     "name": "stdout",
     "output_type": "stream",
     "text": [
      "[[8, 14], [10, 12]]\n"
     ]
    }
   ],
   "source": [
    "print(result)"
   ]
  },
  {
   "cell_type": "markdown",
   "id": "a7e62bf6",
   "metadata": {},
   "source": [
    "## 문제 5 - Scalar-Matrix Product : 행렬 상수배\n",
    "### 다음 그림의 행렬 상수배를 Pythonic Code로 구현하시오.\n",
    "![nn](matrix1.jpg)"
   ]
  },
  {
   "cell_type": "code",
   "execution_count": 8,
   "id": "365edb44",
   "metadata": {},
   "outputs": [],
   "source": [
    "# 행렬 상수배\n",
    "matrix_a = [[1, 2], [3, 4]]\n",
    "alpha = 5\n",
    "result = [[alpha * element for element in t] for t in matrix_a]"
   ]
  },
  {
   "cell_type": "code",
   "execution_count": 9,
   "id": "1ce29e2d",
   "metadata": {},
   "outputs": [
    {
     "name": "stdout",
     "output_type": "stream",
     "text": [
      "[[5, 10], [15, 20]]\n"
     ]
    }
   ],
   "source": [
    "print(result)"
   ]
  },
  {
   "cell_type": "markdown",
   "id": "eaa07032",
   "metadata": {},
   "source": [
    "## 문제 6 - Matrix Transpose : 행렬 전치\n",
    "### 다음 그림의 행렬 전치를 Pythonic Code로 구현하시오.\n",
    "![nn](matrix2.jpg)"
   ]
  },
  {
   "cell_type": "code",
   "execution_count": 10,
   "id": "ebaa3ad7",
   "metadata": {},
   "outputs": [],
   "source": [
    "# 행렬 전치\n",
    "matrix_a = [[1, 2, 3], [4, 5, 6], [7, 8, 9]]\n",
    "result = [[element for element in t] for t in zip(*matrix_a)]"
   ]
  },
  {
   "cell_type": "code",
   "execution_count": 11,
   "id": "ba485f52",
   "metadata": {},
   "outputs": [
    {
     "name": "stdout",
     "output_type": "stream",
     "text": [
      "[[1, 4, 7], [2, 5, 8], [3, 6, 9]]\n"
     ]
    }
   ],
   "source": [
    "print(result)"
   ]
  },
  {
   "cell_type": "code",
   "execution_count": null,
   "id": "8f2b344b",
   "metadata": {},
   "outputs": [],
   "source": []
  }
 ],
 "metadata": {
  "kernelspec": {
   "display_name": "Python 3 (ipykernel)",
   "language": "python",
   "name": "python3"
  },
  "language_info": {
   "codemirror_mode": {
    "name": "ipython",
    "version": 3
   },
   "file_extension": ".py",
   "mimetype": "text/x-python",
   "name": "python",
   "nbconvert_exporter": "python",
   "pygments_lexer": "ipython3",
   "version": "3.9.13"
  }
 },
 "nbformat": 4,
 "nbformat_minor": 5
}
