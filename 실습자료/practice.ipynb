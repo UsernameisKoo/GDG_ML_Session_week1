{
 "cells": [
  {
   "cell_type": "markdown",
   "id": "c4c1436a",
   "metadata": {},
   "source": [
    "# Vector의 계산"
   ]
  },
  {
   "cell_type": "markdown",
   "id": "91cda91f",
   "metadata": {},
   "source": [
    "## 문제 1\n",
    "### 다음 그림의 벡터합을 Pythonic Code로 구현하시오.\n",
    "![nn](vector.jpg)"
   ]
  },
  {
   "cell_type": "code",
   "execution_count": 1,
   "id": "8fa94238",
   "metadata": {},
   "outputs": [],
   "source": [
    "# vector 덧셈\n",
    "\n",
    "\n",
    "\n",
    "\n",
    "\n"
   ]
  },
  {
   "cell_type": "markdown",
   "id": "b245bbd7",
   "metadata": {},
   "source": [
    "## 문제 2 - Scalar-Vector product : 벡터 상수배\n",
    "### 다음 그림의 벡터 상수배를 Pythonic Code로 구현하시오.\n",
    "![nn](vector1.jpg)"
   ]
  },
  {
   "cell_type": "code",
   "execution_count": 2,
   "id": "d617b13c",
   "metadata": {},
   "outputs": [],
   "source": [
    "# Scalar-Vector product : 벡터 상수배\n",
    "\n",
    "\n",
    "\n",
    "\n"
   ]
  },
  {
   "cell_type": "markdown",
   "id": "62d87f65",
   "metadata": {},
   "source": [
    "# Matrix의 계산"
   ]
  },
  {
   "cell_type": "markdown",
   "id": "00d4ae1a",
   "metadata": {},
   "source": [
    "## 문제 3 - Matrix Product : 행렬곱\n",
    "### 다음 그림의 행렬곱 결과를 계산하시오. (코드 x)\n",
    "![nn](matrix3.jpg)"
   ]
  },
  {
   "cell_type": "code",
   "execution_count": 3,
   "id": "08b60848",
   "metadata": {},
   "outputs": [],
   "source": [
    "# 행렬곱\n"
   ]
  },
  {
   "cell_type": "markdown",
   "id": "1bce5673",
   "metadata": {},
   "source": [
    "## 문제 4 - Matrix 덧셈\n",
    "### 다음 그림의 행렬 덧셈을 Pythonic Code로 구현하시오.\n",
    "![nn](matrix.jpg)"
   ]
  },
  {
   "cell_type": "code",
   "execution_count": 4,
   "id": "463d9ef9",
   "metadata": {},
   "outputs": [],
   "source": [
    "# 행렬 덧셈\n",
    "\n",
    "\n"
   ]
  },
  {
   "cell_type": "markdown",
   "id": "a7e62bf6",
   "metadata": {},
   "source": [
    "## 문제 5 - Scalar-Matrix Product : 행렬 상수배\n",
    "### 다음 그림의 행렬 상수배를 Pythonic Code로 구현하시오.\n",
    "![nn](matrix1.jpg)"
   ]
  },
  {
   "cell_type": "code",
   "execution_count": 5,
   "id": "365edb44",
   "metadata": {},
   "outputs": [],
   "source": [
    "# 행렬 상수배\n",
    "\n",
    "\n"
   ]
  },
  {
   "cell_type": "markdown",
   "id": "eaa07032",
   "metadata": {},
   "source": [
    "## 문제 6 - Matrix Transpose : 행렬 전치\n",
    "### 다음 그림의 행렬 전치를 Pythonic Code로 구현하시오.\n",
    "![nn](matrix2.jpg)"
   ]
  },
  {
   "cell_type": "code",
   "execution_count": 6,
   "id": "ebaa3ad7",
   "metadata": {},
   "outputs": [],
   "source": [
    "# 행렬 전치\n",
    "\n",
    "\n"
   ]
  },
  {
   "cell_type": "code",
   "execution_count": null,
   "id": "8f2b344b",
   "metadata": {},
   "outputs": [],
   "source": []
  }
 ],
 "metadata": {
  "kernelspec": {
   "display_name": "Python 3 (ipykernel)",
   "language": "python",
   "name": "python3"
  },
  "language_info": {
   "codemirror_mode": {
    "name": "ipython",
    "version": 3
   },
   "file_extension": ".py",
   "mimetype": "text/x-python",
   "name": "python",
   "nbconvert_exporter": "python",
   "pygments_lexer": "ipython3",
   "version": "3.9.13"
  }
 },
 "nbformat": 4,
 "nbformat_minor": 5
}
